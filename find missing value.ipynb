{
 "cells": [
  {
   "cell_type": "code",
   "execution_count": 140,
   "id": "6d4c4e66-a203-4efa-8092-cf5d06f0b313",
   "metadata": {},
   "outputs": [],
   "source": [
    "import pandas as pd "
   ]
  },
  {
   "cell_type": "code",
   "execution_count": 141,
   "id": "e2e18e45-73fb-4ae8-b3a9-ddbfee4c675a",
   "metadata": {},
   "outputs": [
    {
     "data": {
      "text/html": [
       "<div>\n",
       "<style scoped>\n",
       "    .dataframe tbody tr th:only-of-type {\n",
       "        vertical-align: middle;\n",
       "    }\n",
       "\n",
       "    .dataframe tbody tr th {\n",
       "        vertical-align: top;\n",
       "    }\n",
       "\n",
       "    .dataframe thead th {\n",
       "        text-align: right;\n",
       "    }\n",
       "</style>\n",
       "<table border=\"1\" class=\"dataframe\">\n",
       "  <thead>\n",
       "    <tr style=\"text-align: right;\">\n",
       "      <th></th>\n",
       "      <th>ID</th>\n",
       "      <th>Name</th>\n",
       "      <th>Age</th>\n",
       "      <th>City</th>\n",
       "      <th>Salary</th>\n",
       "      <th>Joined_Date</th>\n",
       "      <th>Target</th>\n",
       "    </tr>\n",
       "  </thead>\n",
       "  <tbody>\n",
       "    <tr>\n",
       "      <th>0</th>\n",
       "      <td>1</td>\n",
       "      <td>Alice</td>\n",
       "      <td>25.0</td>\n",
       "      <td>New York</td>\n",
       "      <td>50000.0</td>\n",
       "      <td>2024-01-10</td>\n",
       "      <td>Yes</td>\n",
       "    </tr>\n",
       "    <tr>\n",
       "      <th>1</th>\n",
       "      <td>2</td>\n",
       "      <td>Bob</td>\n",
       "      <td>30.0</td>\n",
       "      <td>new york</td>\n",
       "      <td>60000.0</td>\n",
       "      <td>10-01-2024</td>\n",
       "      <td>No</td>\n",
       "    </tr>\n",
       "    <tr>\n",
       "      <th>2</th>\n",
       "      <td>3</td>\n",
       "      <td>Charlie</td>\n",
       "      <td>-1.0</td>\n",
       "      <td>NY</td>\n",
       "      <td>55000.0</td>\n",
       "      <td>NaN</td>\n",
       "      <td>Yes</td>\n",
       "    </tr>\n",
       "    <tr>\n",
       "      <th>3</th>\n",
       "      <td>4</td>\n",
       "      <td>NaN</td>\n",
       "      <td>40.0</td>\n",
       "      <td>Los Angeles</td>\n",
       "      <td>70000.0</td>\n",
       "      <td>2023/12/15</td>\n",
       "      <td>Yes</td>\n",
       "    </tr>\n",
       "    <tr>\n",
       "      <th>4</th>\n",
       "      <td>4</td>\n",
       "      <td>Charlie</td>\n",
       "      <td>40.0</td>\n",
       "      <td>NY</td>\n",
       "      <td>NaN</td>\n",
       "      <td>2023/12/15</td>\n",
       "      <td>Yes</td>\n",
       "    </tr>\n",
       "    <tr>\n",
       "      <th>5</th>\n",
       "      <td>5</td>\n",
       "      <td>Eve</td>\n",
       "      <td>NaN</td>\n",
       "      <td>Chicago</td>\n",
       "      <td>58000.0</td>\n",
       "      <td>2024-02-20</td>\n",
       "      <td>No</td>\n",
       "    </tr>\n",
       "    <tr>\n",
       "      <th>6</th>\n",
       "      <td>6</td>\n",
       "      <td>Frank</td>\n",
       "      <td>33.0</td>\n",
       "      <td>NaN</td>\n",
       "      <td>61000.0</td>\n",
       "      <td>2024-03-01</td>\n",
       "      <td>Yes</td>\n",
       "    </tr>\n",
       "    <tr>\n",
       "      <th>7</th>\n",
       "      <td>7</td>\n",
       "      <td>Grace</td>\n",
       "      <td>200.0</td>\n",
       "      <td>Houston</td>\n",
       "      <td>1000000.0</td>\n",
       "      <td>Not a date</td>\n",
       "      <td>Yes</td>\n",
       "    </tr>\n",
       "    <tr>\n",
       "      <th>8</th>\n",
       "      <td>8</td>\n",
       "      <td>Hank</td>\n",
       "      <td>29.0</td>\n",
       "      <td>Seattle</td>\n",
       "      <td>57000.0</td>\n",
       "      <td>2024-01-25</td>\n",
       "      <td>No</td>\n",
       "    </tr>\n",
       "    <tr>\n",
       "      <th>9</th>\n",
       "      <td>9</td>\n",
       "      <td>Alice</td>\n",
       "      <td>31.0</td>\n",
       "      <td>Seattle</td>\n",
       "      <td>56000.0</td>\n",
       "      <td>2024-01-30</td>\n",
       "      <td>No</td>\n",
       "    </tr>\n",
       "  </tbody>\n",
       "</table>\n",
       "</div>"
      ],
      "text/plain": [
       "   ID     Name    Age         City     Salary Joined_Date Target\n",
       "0   1    Alice   25.0     New York    50000.0  2024-01-10    Yes\n",
       "1   2      Bob   30.0     new york    60000.0  10-01-2024     No\n",
       "2   3  Charlie   -1.0           NY    55000.0         NaN    Yes\n",
       "3   4      NaN   40.0  Los Angeles    70000.0  2023/12/15    Yes\n",
       "4   4  Charlie   40.0           NY        NaN  2023/12/15    Yes\n",
       "5   5      Eve    NaN      Chicago    58000.0  2024-02-20     No\n",
       "6   6    Frank   33.0          NaN    61000.0  2024-03-01    Yes\n",
       "7   7    Grace  200.0      Houston  1000000.0  Not a date    Yes\n",
       "8   8     Hank   29.0      Seattle    57000.0  2024-01-25     No\n",
       "9   9    Alice   31.0      Seattle    56000.0  2024-01-30     No"
      ]
     },
     "execution_count": 141,
     "metadata": {},
     "output_type": "execute_result"
    }
   ],
   "source": [
    "dataset=pd.read_csv(r\"C:\\Users\\wwrao\\Downloads\\Anomalous_Dataset.csv\")\n",
    "dataset.head(10)"
   ]
  },
  {
   "cell_type": "code",
   "execution_count": 142,
   "id": "a5a9a8ca-e45f-4ce6-9552-3bceb87d2126",
   "metadata": {},
   "outputs": [
    {
     "data": {
      "text/plain": [
       "ID             0\n",
       "Name           1\n",
       "Age            1\n",
       "City           1\n",
       "Salary         1\n",
       "Joined_Date    1\n",
       "Target         0\n",
       "dtype: int64"
      ]
     },
     "execution_count": 142,
     "metadata": {},
     "output_type": "execute_result"
    }
   ],
   "source": [
    "dataset.isnull().sum()"
   ]
  },
  {
   "cell_type": "code",
   "execution_count": 143,
   "id": "cd44979c-9039-4b8e-bbd4-69ba2a094d12",
   "metadata": {},
   "outputs": [
    {
     "data": {
      "text/plain": [
       "0"
      ]
     },
     "execution_count": 143,
     "metadata": {},
     "output_type": "execute_result"
    }
   ],
   "source": [
    "dataset.duplicated().sum()"
   ]
  },
  {
   "cell_type": "code",
   "execution_count": 144,
   "id": "8fbd2fc3-d86d-43cc-8596-3dd200f85b47",
   "metadata": {},
   "outputs": [
    {
     "data": {
      "text/plain": [
       "(10, 7)"
      ]
     },
     "execution_count": 144,
     "metadata": {},
     "output_type": "execute_result"
    }
   ],
   "source": [
    "dataset.shape"
   ]
  },
  {
   "cell_type": "code",
   "execution_count": null,
   "id": "c506f35c-5fcb-4d85-8166-6e6ed77f2653",
   "metadata": {},
   "outputs": [],
   "source": []
  },
  {
   "cell_type": "code",
   "execution_count": 145,
   "id": "a57aff22-81db-4faa-9b8d-23bb409d860c",
   "metadata": {},
   "outputs": [],
   "source": [
    "dataset['City'] = dataset['City'].fillna('Lahore')"
   ]
  },
  {
   "cell_type": "code",
   "execution_count": 146,
   "id": "c57614f9-4162-40e6-8b32-7bec43dd20ef",
   "metadata": {},
   "outputs": [
    {
     "data": {
      "text/plain": [
       "0"
      ]
     },
     "execution_count": 146,
     "metadata": {},
     "output_type": "execute_result"
    }
   ],
   "source": [
    "dataset[\"City\"].isnull().sum()"
   ]
  },
  {
   "cell_type": "code",
   "execution_count": 147,
   "id": "c536f4e0-9c30-4b4e-8202-0c1cdc5f152a",
   "metadata": {},
   "outputs": [],
   "source": [
    "dataset.fillna(dataset[\"Salary\"].median(),inplace=True)\n",
    "dataset.fillna(dataset[\"Age\"].median(),inplace=True)"
   ]
  },
  {
   "cell_type": "code",
   "execution_count": 148,
   "id": "b66ee2e7-fe4c-444c-95ae-a05fc42e3f0c",
   "metadata": {},
   "outputs": [
    {
     "data": {
      "text/plain": [
       "(0, 0)"
      ]
     },
     "execution_count": 148,
     "metadata": {},
     "output_type": "execute_result"
    }
   ],
   "source": [
    "dataset[\"Salary\"].isnull().sum(),dataset[\"Age\"].isnull().sum()"
   ]
  },
  {
   "cell_type": "code",
   "execution_count": null,
   "id": "516cc3f2-196a-4030-8889-4ed728cba15e",
   "metadata": {},
   "outputs": [],
   "source": []
  },
  {
   "cell_type": "code",
   "execution_count": 149,
   "id": "07889535-92bf-49a6-a3cd-01cce1a2ec7b",
   "metadata": {},
   "outputs": [
    {
     "data": {
      "text/plain": [
       "'2006-01-01'"
      ]
     },
     "execution_count": 149,
     "metadata": {},
     "output_type": "execute_result"
    }
   ],
   "source": [
    "dataset['Joined_Date'] = dataset['Joined_Date'].fillna('1900-01-01')\n",
    "dataset.loc[7, 'Joined_Date'] = \"2006-01-01\"\n",
    "dataset['Joined_Date'][7]"
   ]
  },
  {
   "cell_type": "code",
   "execution_count": 150,
   "id": "68ae7c13-649f-4590-b6da-9000a9631612",
   "metadata": {},
   "outputs": [],
   "source": [
    "dataset.drop(columns=[\"Name\"],axis=1,inplace=True)"
   ]
  },
  {
   "cell_type": "code",
   "execution_count": 151,
   "id": "dd94ac47-aa76-4e60-ad09-56a5f2ea4aee",
   "metadata": {},
   "outputs": [
    {
     "data": {
      "text/plain": [
       "ID             0\n",
       "Age            0\n",
       "City           0\n",
       "Salary         0\n",
       "Joined_Date    0\n",
       "Target         0\n",
       "dtype: int64"
      ]
     },
     "execution_count": 151,
     "metadata": {},
     "output_type": "execute_result"
    }
   ],
   "source": [
    "dataset.isnull().sum()"
   ]
  },
  {
   "cell_type": "code",
   "execution_count": null,
   "id": "3b2b7121-49cc-4fa2-8a92-f775b9846179",
   "metadata": {},
   "outputs": [],
   "source": []
  },
  {
   "cell_type": "code",
   "execution_count": null,
   "id": "804fa208-c4c1-42ec-bca6-f4f1c04be091",
   "metadata": {},
   "outputs": [],
   "source": []
  },
  {
   "cell_type": "code",
   "execution_count": null,
   "id": "929a6438-0ec6-47dc-8614-73733b369018",
   "metadata": {},
   "outputs": [],
   "source": []
  }
 ],
 "metadata": {
  "kernelspec": {
   "display_name": "Python 3 (ipykernel)",
   "language": "python",
   "name": "python3"
  },
  "language_info": {
   "codemirror_mode": {
    "name": "ipython",
    "version": 3
   },
   "file_extension": ".py",
   "mimetype": "text/x-python",
   "name": "python",
   "nbconvert_exporter": "python",
   "pygments_lexer": "ipython3",
   "version": "3.11.7"
  }
 },
 "nbformat": 4,
 "nbformat_minor": 5
}
