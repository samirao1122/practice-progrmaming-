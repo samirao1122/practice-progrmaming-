{
 "cells": [
  {
   "cell_type": "code",
   "execution_count": 194,
   "id": "d60e064d-912b-4ef3-b26f-667a8bbee9b1",
   "metadata": {},
   "outputs": [],
   "source": [
    "import pandas as pd \n"
   ]
  },
  {
   "cell_type": "code",
   "execution_count": 195,
   "id": "1741d70c-0bee-4e77-9733-fb4cabecebf9",
   "metadata": {},
   "outputs": [
    {
     "data": {
      "text/html": [
       "<div>\n",
       "<style scoped>\n",
       "    .dataframe tbody tr th:only-of-type {\n",
       "        vertical-align: middle;\n",
       "    }\n",
       "\n",
       "    .dataframe tbody tr th {\n",
       "        vertical-align: top;\n",
       "    }\n",
       "\n",
       "    .dataframe thead th {\n",
       "        text-align: right;\n",
       "    }\n",
       "</style>\n",
       "<table border=\"1\" class=\"dataframe\">\n",
       "  <thead>\n",
       "    <tr style=\"text-align: right;\">\n",
       "      <th></th>\n",
       "      <th>Name</th>\n",
       "      <th>Age</th>\n",
       "      <th>City</th>\n",
       "      <th>Salary</th>\n",
       "      <th>Joined_Date</th>\n",
       "      <th>Target</th>\n",
       "    </tr>\n",
       "  </thead>\n",
       "  <tbody>\n",
       "    <tr>\n",
       "      <th>0</th>\n",
       "      <td>Alice</td>\n",
       "      <td>25.0</td>\n",
       "      <td>New York</td>\n",
       "      <td>70000.0</td>\n",
       "      <td>1/10/2023</td>\n",
       "      <td>Yes</td>\n",
       "    </tr>\n",
       "    <tr>\n",
       "      <th>1</th>\n",
       "      <td>Bob</td>\n",
       "      <td>30.0</td>\n",
       "      <td>Los Angeles</td>\n",
       "      <td>80000.0</td>\n",
       "      <td>5/15/2023</td>\n",
       "      <td>No</td>\n",
       "    </tr>\n",
       "    <tr>\n",
       "      <th>2</th>\n",
       "      <td>Charlie</td>\n",
       "      <td>35.0</td>\n",
       "      <td>Chicago</td>\n",
       "      <td>90000.0</td>\n",
       "      <td>7/20/2023</td>\n",
       "      <td>Yes</td>\n",
       "    </tr>\n",
       "    <tr>\n",
       "      <th>3</th>\n",
       "      <td>Alice</td>\n",
       "      <td>NaN</td>\n",
       "      <td>New York</td>\n",
       "      <td>NaN</td>\n",
       "      <td>NaN</td>\n",
       "      <td>Yes</td>\n",
       "    </tr>\n",
       "    <tr>\n",
       "      <th>4</th>\n",
       "      <td>David</td>\n",
       "      <td>40.0</td>\n",
       "      <td>Seattle</td>\n",
       "      <td>100000.0</td>\n",
       "      <td>11/30/2022</td>\n",
       "      <td>No</td>\n",
       "    </tr>\n",
       "    <tr>\n",
       "      <th>5</th>\n",
       "      <td>NaN</td>\n",
       "      <td>22.0</td>\n",
       "      <td>Houston</td>\n",
       "      <td>60000.0</td>\n",
       "      <td>2/25/2023</td>\n",
       "      <td>Yes</td>\n",
       "    </tr>\n",
       "    <tr>\n",
       "      <th>6</th>\n",
       "      <td>Frank</td>\n",
       "      <td>33.0</td>\n",
       "      <td>Seattle</td>\n",
       "      <td>75000.0</td>\n",
       "      <td>3/15/2023</td>\n",
       "      <td>No</td>\n",
       "    </tr>\n",
       "    <tr>\n",
       "      <th>7</th>\n",
       "      <td>Grace</td>\n",
       "      <td>29.0</td>\n",
       "      <td>Chicago</td>\n",
       "      <td>85000.0</td>\n",
       "      <td>7/20/2023</td>\n",
       "      <td>Yes</td>\n",
       "    </tr>\n",
       "    <tr>\n",
       "      <th>8</th>\n",
       "      <td>Bob</td>\n",
       "      <td>30.0</td>\n",
       "      <td>Los Angeles</td>\n",
       "      <td>80000.0</td>\n",
       "      <td>5/15/2023</td>\n",
       "      <td>No</td>\n",
       "    </tr>\n",
       "    <tr>\n",
       "      <th>9</th>\n",
       "      <td>Alice</td>\n",
       "      <td>25.0</td>\n",
       "      <td>New York</td>\n",
       "      <td>70000.0</td>\n",
       "      <td>1/10/2023</td>\n",
       "      <td>Yes</td>\n",
       "    </tr>\n",
       "    <tr>\n",
       "      <th>10</th>\n",
       "      <td>Bob</td>\n",
       "      <td>30.0</td>\n",
       "      <td>Los Angeles</td>\n",
       "      <td>80000.0</td>\n",
       "      <td>5/15/2023</td>\n",
       "      <td>No</td>\n",
       "    </tr>\n",
       "  </tbody>\n",
       "</table>\n",
       "</div>"
      ],
      "text/plain": [
       "       Name   Age         City    Salary Joined_Date Target\n",
       "0     Alice  25.0     New York   70000.0   1/10/2023    Yes\n",
       "1       Bob  30.0  Los Angeles   80000.0   5/15/2023     No\n",
       "2   Charlie  35.0      Chicago   90000.0   7/20/2023    Yes\n",
       "3     Alice   NaN     New York       NaN         NaN    Yes\n",
       "4     David  40.0      Seattle  100000.0  11/30/2022     No\n",
       "5       NaN  22.0      Houston   60000.0   2/25/2023    Yes\n",
       "6     Frank  33.0      Seattle   75000.0   3/15/2023     No\n",
       "7     Grace  29.0      Chicago   85000.0   7/20/2023    Yes\n",
       "8       Bob  30.0  Los Angeles   80000.0   5/15/2023     No\n",
       "9     Alice  25.0     New York   70000.0   1/10/2023    Yes\n",
       "10      Bob  30.0  Los Angeles   80000.0   5/15/2023     No"
      ]
     },
     "execution_count": 195,
     "metadata": {},
     "output_type": "execute_result"
    }
   ],
   "source": [
    "dataset=pd.read_csv(r\"C:\\Users\\wwrao\\OneDrive\\Documents\\Dataset_With_Duplicates.csv\")\n",
    "dataset"
   ]
  },
  {
   "cell_type": "code",
   "execution_count": 196,
   "id": "86000ff2-c9e6-434f-a421-351a41c231aa",
   "metadata": {},
   "outputs": [
    {
     "data": {
      "text/plain": [
       "Name           1\n",
       "Age            1\n",
       "City           0\n",
       "Salary         1\n",
       "Joined_Date    1\n",
       "Target         0\n",
       "dtype: int64"
      ]
     },
     "execution_count": 196,
     "metadata": {},
     "output_type": "execute_result"
    }
   ],
   "source": [
    "dataset.isnull().sum()"
   ]
  },
  {
   "cell_type": "code",
   "execution_count": 197,
   "id": "174480d4-420b-4ef2-9a51-e872c14d4932",
   "metadata": {},
   "outputs": [
    {
     "data": {
      "text/plain": [
       "0     False\n",
       "1     False\n",
       "2     False\n",
       "3     False\n",
       "4     False\n",
       "5     False\n",
       "6     False\n",
       "7     False\n",
       "8      True\n",
       "9      True\n",
       "10     True\n",
       "dtype: bool"
      ]
     },
     "execution_count": 197,
     "metadata": {},
     "output_type": "execute_result"
    }
   ],
   "source": [
    "dataset.duplicated() "
   ]
  },
  {
   "cell_type": "markdown",
   "id": "86c74cd8-c4d1-4f79-9104-907aa515abc7",
   "metadata": {},
   "source": [
    "<h3>Remove duplicated value </h3>"
   ]
  },
  {
   "cell_type": "code",
   "execution_count": 198,
   "id": "48a5a139-3160-4ad3-8b6e-58fee4154d33",
   "metadata": {
    "scrolled": true
   },
   "outputs": [
    {
     "data": {
      "text/plain": [
       "3"
      ]
     },
     "execution_count": 198,
     "metadata": {},
     "output_type": "execute_result"
    }
   ],
   "source": [
    "dataset.duplicated().sum()"
   ]
  },
  {
   "cell_type": "code",
   "execution_count": 199,
   "id": "4e7aa694-69b2-40cd-b6b7-6cbf9e01d29b",
   "metadata": {},
   "outputs": [
    {
     "data": {
      "text/plain": [
       "0"
      ]
     },
     "execution_count": 199,
     "metadata": {},
     "output_type": "execute_result"
    }
   ],
   "source": [
    "dataset.drop_duplicates(inplace=True)\n",
    "dataset.duplicated().sum()"
   ]
  },
  {
   "cell_type": "markdown",
   "id": "ea130993-5e1d-4523-b571-6ba6bcb88d63",
   "metadata": {},
   "source": [
    "<h3>Remove the null value</h3>"
   ]
  },
  {
   "cell_type": "code",
   "execution_count": 200,
   "id": "c500b1e2-f0a8-4b04-b694-4c94f7535ccd",
   "metadata": {},
   "outputs": [
    {
     "data": {
      "text/plain": [
       "Name           1\n",
       "Age            1\n",
       "City           0\n",
       "Salary         1\n",
       "Joined_Date    1\n",
       "Target         0\n",
       "dtype: int64"
      ]
     },
     "execution_count": 200,
     "metadata": {},
     "output_type": "execute_result"
    }
   ],
   "source": [
    "dataset.isnull().sum()"
   ]
  },
  {
   "cell_type": "code",
   "execution_count": 201,
   "id": "475505e6-1e06-44f6-a1e6-8365afa7bded",
   "metadata": {},
   "outputs": [
    {
     "data": {
      "text/plain": [
       "nan"
      ]
     },
     "execution_count": 201,
     "metadata": {},
     "output_type": "execute_result"
    }
   ],
   "source": [
    "dataset[\"Name\"][5]   #add value into null value in the name column "
   ]
  },
  {
   "cell_type": "code",
   "execution_count": 202,
   "id": "d2857ca0-7cfb-4223-9681-f6b6687cb7c5",
   "metadata": {},
   "outputs": [],
   "source": [
    "dataset[\"Name\"].fillna(\"Sami\",inplace=True)\n"
   ]
  },
  {
   "cell_type": "code",
   "execution_count": 203,
   "id": "86e5db23-e930-462c-b9ca-7cde36f617a6",
   "metadata": {},
   "outputs": [
    {
     "data": {
      "text/plain": [
       "(40.0, 100000.0)"
      ]
     },
     "execution_count": 203,
     "metadata": {},
     "output_type": "execute_result"
    }
   ],
   "source": [
    "\n",
    "dataset[\"Age\"].fillna(dataset[\"Age\"].median(), inplace=True)       #add in the age column on behalf on median \n",
    "\n",
    "dataset[\"Salary\"].fillna(dataset[\"Salary\"].mean(), inplace=True)  \n",
    "\n",
    "dataset[\"Age\"][4],dataset[\"Salary\"][4]"
   ]
  },
  {
   "cell_type": "markdown",
   "id": "7c9b0e93-472c-485e-936c-94eb4cea0408",
   "metadata": {},
   "source": [
    "<h3>Delete unwanted column</h3>"
   ]
  },
  {
   "cell_type": "code",
   "execution_count": 204,
   "id": "af084b99-2e56-4b4d-9912-f86652fb47b1",
   "metadata": {},
   "outputs": [],
   "source": [
    "dataset.drop(columns=[\"Joined_Date\"],inplace=True)"
   ]
  },
  {
   "cell_type": "markdown",
   "id": "411734ae-0b5d-4b30-b162-aa0de91dfe41",
   "metadata": {},
   "source": [
    "**After**"
   ]
  },
  {
   "cell_type": "code",
   "execution_count": 205,
   "id": "8532e5c1-da0d-4320-bb40-ed3e80d7084d",
   "metadata": {},
   "outputs": [
    {
     "data": {
      "text/plain": [
       "Name      0\n",
       "Age       0\n",
       "City      0\n",
       "Salary    0\n",
       "Target    0\n",
       "dtype: int64"
      ]
     },
     "execution_count": 205,
     "metadata": {},
     "output_type": "execute_result"
    }
   ],
   "source": [
    "dataset.isnull().sum()"
   ]
  },
  {
   "cell_type": "code",
   "execution_count": null,
   "id": "9a6845a2-f21f-4d3c-a644-de58c8d9b899",
   "metadata": {},
   "outputs": [],
   "source": []
  },
  {
   "cell_type": "code",
   "execution_count": 193,
   "id": "169be35d-4725-45ef-80a6-104dc88be060",
   "metadata": {},
   "outputs": [
    {
     "data": {
      "text/html": [
       "<div>\n",
       "<style scoped>\n",
       "    .dataframe tbody tr th:only-of-type {\n",
       "        vertical-align: middle;\n",
       "    }\n",
       "\n",
       "    .dataframe tbody tr th {\n",
       "        vertical-align: top;\n",
       "    }\n",
       "\n",
       "    .dataframe thead th {\n",
       "        text-align: right;\n",
       "    }\n",
       "</style>\n",
       "<table border=\"1\" class=\"dataframe\">\n",
       "  <thead>\n",
       "    <tr style=\"text-align: right;\">\n",
       "      <th></th>\n",
       "      <th>Name</th>\n",
       "      <th>Age</th>\n",
       "      <th>City</th>\n",
       "      <th>Salary</th>\n",
       "      <th>Target</th>\n",
       "    </tr>\n",
       "  </thead>\n",
       "  <tbody>\n",
       "    <tr>\n",
       "      <th>0</th>\n",
       "      <td>Alice</td>\n",
       "      <td>25.0</td>\n",
       "      <td>New York</td>\n",
       "      <td>70000.0</td>\n",
       "      <td>Yes</td>\n",
       "    </tr>\n",
       "    <tr>\n",
       "      <th>1</th>\n",
       "      <td>Bob</td>\n",
       "      <td>30.0</td>\n",
       "      <td>Los Angeles</td>\n",
       "      <td>80000.0</td>\n",
       "      <td>No</td>\n",
       "    </tr>\n",
       "    <tr>\n",
       "      <th>2</th>\n",
       "      <td>Charlie</td>\n",
       "      <td>35.0</td>\n",
       "      <td>Chicago</td>\n",
       "      <td>90000.0</td>\n",
       "      <td>Yes</td>\n",
       "    </tr>\n",
       "    <tr>\n",
       "      <th>3</th>\n",
       "      <td>Alice</td>\n",
       "      <td>30.0</td>\n",
       "      <td>New York</td>\n",
       "      <td>80000.0</td>\n",
       "      <td>Yes</td>\n",
       "    </tr>\n",
       "    <tr>\n",
       "      <th>4</th>\n",
       "      <td>David</td>\n",
       "      <td>40.0</td>\n",
       "      <td>Seattle</td>\n",
       "      <td>100000.0</td>\n",
       "      <td>No</td>\n",
       "    </tr>\n",
       "    <tr>\n",
       "      <th>5</th>\n",
       "      <td>Sami</td>\n",
       "      <td>22.0</td>\n",
       "      <td>Houston</td>\n",
       "      <td>60000.0</td>\n",
       "      <td>Yes</td>\n",
       "    </tr>\n",
       "    <tr>\n",
       "      <th>6</th>\n",
       "      <td>Frank</td>\n",
       "      <td>33.0</td>\n",
       "      <td>Seattle</td>\n",
       "      <td>75000.0</td>\n",
       "      <td>No</td>\n",
       "    </tr>\n",
       "    <tr>\n",
       "      <th>7</th>\n",
       "      <td>Grace</td>\n",
       "      <td>29.0</td>\n",
       "      <td>Chicago</td>\n",
       "      <td>85000.0</td>\n",
       "      <td>Yes</td>\n",
       "    </tr>\n",
       "  </tbody>\n",
       "</table>\n",
       "</div>"
      ],
      "text/plain": [
       "      Name   Age         City    Salary Target\n",
       "0    Alice  25.0     New York   70000.0    Yes\n",
       "1      Bob  30.0  Los Angeles   80000.0     No\n",
       "2  Charlie  35.0      Chicago   90000.0    Yes\n",
       "3    Alice  30.0     New York   80000.0    Yes\n",
       "4    David  40.0      Seattle  100000.0     No\n",
       "5     Sami  22.0      Houston   60000.0    Yes\n",
       "6    Frank  33.0      Seattle   75000.0     No\n",
       "7    Grace  29.0      Chicago   85000.0    Yes"
      ]
     },
     "execution_count": 193,
     "metadata": {},
     "output_type": "execute_result"
    }
   ],
   "source": [
    "dataset"
   ]
  },
  {
   "cell_type": "code",
   "execution_count": null,
   "id": "478c8011-072e-4615-84d9-29069bafc593",
   "metadata": {},
   "outputs": [],
   "source": []
  },
  {
   "cell_type": "code",
   "execution_count": null,
   "id": "546652c2-41b0-40bf-806e-90ca695bd6b2",
   "metadata": {},
   "outputs": [],
   "source": []
  },
  {
   "cell_type": "code",
   "execution_count": null,
   "id": "1369ebd9-b7f3-4c3d-819c-cf23b73c2d26",
   "metadata": {},
   "outputs": [],
   "source": []
  }
 ],
 "metadata": {
  "kernelspec": {
   "display_name": "Python 3 (ipykernel)",
   "language": "python",
   "name": "python3"
  },
  "language_info": {
   "codemirror_mode": {
    "name": "ipython",
    "version": 3
   },
   "file_extension": ".py",
   "mimetype": "text/x-python",
   "name": "python",
   "nbconvert_exporter": "python",
   "pygments_lexer": "ipython3",
   "version": "3.11.7"
  }
 },
 "nbformat": 4,
 "nbformat_minor": 5
}
